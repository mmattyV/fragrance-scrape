{
 "cells": [
  {
   "cell_type": "markdown",
   "metadata": {},
   "source": [
    "### Tutorial para Principiantes: Web Scraping de Páginas Protegidas Contra Robots\n",
    "\n",
    "Web scraping puede ser una herramienta poderosa, pero cuando te enfrentas a páginas protegidas contra robots, necesitas tener en cuenta varias consideraciones y técnicas. A continuación, se detallan los pasos generales y algunas técnicas avanzadas para realizar web scraping de manera efectiva y respetuosa.\n",
    "\n",
    "#### 1. Configuración del Entorno\n",
    "\n",
    "#### 1.1 Instalación de Node.js\n",
    "\n",
    "Node.js es un entorno de ejecución para JavaScript en el servidor. Necesitarás instalarlo para utilizar algunas herramientas de scraping.\n",
    "\n",
    "Descargar e instalar Node.js:\n",
    "\n",
    "Ve a la página oficial de Node.js: Nodejs.org\n",
    "Descarga el instalador adecuado para tu sistema operativo y sigue las instrucciones para instalarlo.\n",
    "Verificar la instalación:"
   ]
  },
  {
   "attachments": {
    "image.png": {
     "image/png": "[encoded data removed]"
    }
   },
   "cell_type": "markdown",
   "metadata": {},
   "source": [
    "![image.png](attachment:image.png)"
   ]
  },
  {
   "cell_type": "markdown",
   "metadata": {},
   "source": [
    "#### 1.2 Instalación de Docker\n",
    "\n",
    "Docker es una plataforma para desarrollar, enviar y ejecutar aplicaciones dentro de contenedores.\n",
    "\n",
    "Descargar e instalar Docker:\n",
    "\n",
    "Ve a la página oficial de Docker: Docker.com\n",
    "Descarga Docker Desktop para tu sistema operativo e instálalo.\n",
    "Verificar la instalación:"
   ]
  },
  {
   "attachments": {
    "image.png": {
     "image/png": "[encoded data removed]"
    }
   },
   "cell_type": "markdown",
   "metadata": {},
   "source": [
    "![image.png](attachment:image.png)"
   ]
  },
  {
   "cell_type": "markdown",
   "metadata": {},
   "source": [
    "#### 2. Instalar las Dependencias\n",
    "Crea un archivo requirements.txt para listar las dependencias necesarias para tu proyecto.\n",
    "\n",
    "requirements.txt:"
   ]
  },
  {
   "attachments": {
    "image.png": {
     "image/png": "[encoded data removed]"
    }
   },
   "cell_type": "markdown",
   "metadata": {},
   "source": [
    "![image.png](attachment:image.png)"
   ]
  },
  {
   "cell_type": "markdown",
   "metadata": {},
   "source": [
    "Instalar las dependencias:"
   ]
  },
  {
   "attachments": {
    "image.png": {
     "image/png": "[encoded data removed]"
    }
   },
   "cell_type": "markdown",
   "metadata": {},
   "source": [
    "![image.png](attachment:image.png)"
   ]
  },
  {
   "cell_type": "markdown",
   "metadata": {},
   "source": [
    "#### 3. Configuración de ChromeDriver\n",
    "\n",
    "ChromeDriver es una herramienta que permite controlar el navegador Chrome a través de Selenium.\n",
    "\n",
    "Descargar ChromeDriver:\n",
    "\n",
    "Ve a la página oficial de ChromeDriver https://developer.chrome.com/docs/chromedriver y descarga la versión correspondiente a tu versión de Chrome.\n",
    "En mi caso he usado la version 126 (la version de Chrome debe ser igual que la version de Chromedriver)\n",
    "\n",
    "Instalar ChromeDriver:\n",
    "\n",
    "Coloca el archivo ejecutable de ChromeDriver en una ubicación accesible desde tu PATH, o especifícalo directamente en tu script de Selenium. (para añadir manualmente en Windows: Panel de control - Sistema y Seguridad - Sistema - Configuracion avanzada - Variables de entorno - Variables de sistema - Path - Editar). Agrega la ruta donde colocaste 'chromedriver.exe' y haz click en 'Aceptar' en todas as ventanas."
   ]
  },
  {
   "cell_type": "markdown",
   "metadata": {},
   "source": [
    "Verificar la instalacion de Chromedriver:\n",
    "\n",
    "Abre una terminal y ejecuta:\n",
    "\n",
    "chromedriver --version"
   ]
  },
  {
   "cell_type": "markdown",
   "metadata": {},
   "source": [
    "#### 4. Pasos Detallados para Crear Archivos de Cookies en Formato JSON\n"
   ]
  },
  {
   "cell_type": "markdown",
   "metadata": {},
   "source": [
    "Para crear archivos de cookies en formato JSON utilizando las herramientas de desarrollador de un navegador (por ejemplo, Google Chrome), puedes seguir estos pasos detallados:"
   ]
  },
  {
   "cell_type": "markdown",
   "metadata": {},
   "source": [
    "Abrir las Herramientas de Desarrollador:\n",
    "\n",
    "Abre Google Chrome.\n",
    "Navega al sitio web del cual quieres obtener las cookies.\n",
    "Haz clic derecho en cualquier parte de la página y selecciona \"Inspeccionar\" o presiona Ctrl+Shift+I (Windows) o Cmd+Opt+I (Mac).\n",
    "Navegar a la Pestaña \"Application\" (Aplicación):\n",
    "\n",
    "En las herramientas de desarrollador, selecciona la pestaña \"Application\" (o \"Aplicación\").\n",
    "En el panel izquierdo, busca y expande la sección \"Cookies\" y selecciona el dominio del sitio web. Verás una tabla que contiene todas las cookies de ese dominio.\n",
    "Exportar las Cookies:\n",
    "\n",
    "Haz clic derecho en cualquier lugar de la tabla de cookies.\n",
    "Selecciona \"Copy all as HAR\".\n",
    "Abre un editor de texto (por ejemplo, Notepad, VSCode, Sublime Text) y pega el contenido copiado. El archivo HAR contiene las cookies y otras informaciones de la solicitud HTTP.\n",
    "Extraer y Formatear las Cookies:\n",
    "\n",
    "Filtra el contenido del archivo HAR para obtener solo las cookies. Las cookies se encuentran dentro de una estructura JSON bajo el campo cookies.\n",
    "Extrae las cookies y guárdalas en un archivo JSON."
   ]
  },
  {
   "cell_type": "markdown",
   "metadata": {},
   "source": [
    "Opcion 2.\n",
    "\n",
    "Uso de Extensiones de Navegador\n",
    "\n",
    "Hay extensiones de navegador que permiten exportar cookies directamente en formato JSON. Una de estas extensiones es \"EditThisCookie\". Aquí te explico cómo usarla:\n",
    "\n",
    "Instalar EditThisCookie:\n",
    "\n",
    "Ve a la Chrome Web Store y busca \"EditThisCookie\".\n",
    "Instala la extensión.\n",
    "Exportar las Cookies:\n",
    "\n",
    "Navega al sitio web del cual quieres exportar las cookies.\n",
    "Haz clic en el icono de la extensión \"EditThisCookie\".\n",
    "Selecciona \"Exportar\" para guardar las cookies en formato JSON.\n",
    "Guarda el contenido en un archivo .json."
   ]
  },
  {
   "cell_type": "markdown",
   "metadata": {},
   "source": [
    "Guarda los cookies como 'cookiesXX.json´ (donde 'XX' es un numero unico) en el directorio de tu proyecto"
   ]
  },
  {
   "cell_type": "markdown",
   "metadata": {},
   "source": [
    "#### 5. Creación del Archivo control.txt\n",
    "El archivo control.txt se utiliza en tu script fra_discr_cookies.py para controlar el flujo de ejecución del script. Específicamente, permite pausar o abortar el script en función del contenido de este archivo. Esto es útil para gestionar largas sesiones de scraping y poder intervenir sin tener que detener manualmente el script desde la terminal.\n",
    "\n",
    "Uso del Archivo control.txt en el Script\n",
    "\n",
    "En el script fra_discr_cookies.py, hay una función read_control_file que lee el contenido del archivo control.txt. Dependiendo del contenido, el script puede pausar o abortar la ejecución."
   ]
  },
  {
   "cell_type": "markdown",
   "metadata": {},
   "source": [
    "Creación del Archivo control.txt\n",
    "\n",
    "Paso 1: Crear el Archivo control.txt\n",
    "\n",
    "Usar un Editor de Texto:\n",
    "Abre tu editor de texto preferido (por ejemplo, Notepad, VSCode, Sublime Text).\n",
    "Crea un nuevo archivo y guárdalo como control.txt en el directorio raíz de tu proyecto (donde está ubicado el script fra_discr_cookies.py).\n",
    "\n",
    "Paso 2: Escribir Comandos en control.txt\n",
    "\n",
    "El archivo control.txt puede contener los siguientes comandos:\n",
    "\n",
    "pause: Pausa la ejecución del script.\n",
    "\n",
    "abort: Detiene completamente la ejecución del script.\n",
    "\n",
    "run (o cualquier otro contenido distinto de pause y abort): Permite que el script se ejecute normalmente."
   ]
  },
  {
   "cell_type": "markdown",
   "metadata": {},
   "source": [
    "#### 6. Estructura y Planificación del Scraping\n",
    "\n",
    "1.1 Analizar la Jerarquía del Sitio.\n",
    "\n",
    "Antes de comenzar con el scraping, es esencial entender la estructura del sitio web. Las páginas web complejas suelen tener una jerarquía significativa, lo que significa que deberás recopilar enlaces a las páginas que contienen la información que necesitas antes de hacer el scraping de los datos específicos.\n",
    "\n",
    "Pasos:\n",
    "\n",
    "Navegar por el Sitio: Examina el sitio para entender cómo se organizan las páginas y los datos.\n",
    "\n",
    "Identificar Páginas Clave: Determina qué páginas contienen la información que necesitas.\n",
    "\n",
    "1.2 Crear una Lista de Enlaces\n",
    "\n",
    "Crea una lista de enlaces de las páginas que contienen la información que deseas extraer. Esta será la primera fase de tu scraping.\n"
   ]
  },
  {
   "cell_type": "markdown",
   "metadata": {},
   "source": [
    "#### 7. Cómo Elegir y Validar Selectores CSS para un Script de Scraping\n",
    "\n",
    "Para extraer datos de una página web, necesitas seleccionar los elementos HTML correctos. Esto se hace mediante selectores CSS. Vamos a ver cómo elegir y validar los selectores CSS usando las herramientas de desarrollador en Google Chrome, seguido de cómo integrarlos y validarlos en tu script de scraping.\n",
    "\n",
    "Paso 1: Abrir las Herramientas de Desarrollador\n",
    "\n",
    "Abrir Google Chrome.\n",
    "\n",
    "Navegar a la Página Web: Ve a la página de la cual deseas extraer información.\n",
    "\n",
    "Abrir Herramientas de Desarrollador:\n",
    "\n",
    "Haz clic derecho en la página y selecciona \"Inspeccionar\" o presiona Ctrl+Shift+I (Windows) o Cmd+Opt+I (Mac).\n",
    "\n",
    "Paso 2: Inspeccionar Elementos\n",
    "\n",
    "Seleccionar el Elemento:\n",
    "\n",
    "Usa la herramienta de selección (Ctrl+Shift+C) o haz clic en el icono de selección en la esquina superior izquierda de las herramientas de desarrollador.\n",
    "Haz clic en el elemento de la página web que deseas seleccionar.\n",
    "Ver el Código HTML:\n",
    "\n",
    "El panel de \"Elements\" (Elementos) te mostrará el código HTML correspondiente al elemento seleccionado.\n",
    "Observa las clases, IDs y otros atributos que puedes usar para crear selectores CSS.\n",
    "\n",
    "Paso 3: Crear el Selector CSS\n",
    "\n",
    "Identificar Atributos Únicos:\n",
    "\n",
    "Los IDs suelen ser únicos. Ejemplo: #element_id.\n",
    "Las clases pueden ser compartidas, pero puedes combinarlas con otras etiquetas o clases para hacerlas únicas. Ejemplo: .class1.class2.\n",
    "\n",
    "Crear el Selector CSS:\n",
    "\n",
    "Ejemplo de selector por ID: #element_id\n",
    "Ejemplo de selector por clase: .element_class\n",
    "Ejemplo de selector combinado: .element_class > .child_class"
   ]
  },
  {
   "cell_type": "markdown",
   "metadata": {},
   "source": [
    "\n",
    "Crear el Selector CSS:\n",
    "\n",
    "Ejemplo de selector por ID: #element_id\n",
    "Ejemplo de selector por clase: .element_class\n",
    "Ejemplo de selector combinado: .element_class > .child_class"
   ]
  },
  {
   "cell_type": "markdown",
   "metadata": {},
   "source": [
    "Paso 4: Usar el Comando de Búsqueda para Probar Selectores CSS\n",
    "\n",
    "Abrir el Comando de Búsqueda:\n",
    "\n",
    "En el panel \"Elements\", presiona Ctrl+F (Windows) o Cmd+F (Mac) para abrir el campo de búsqueda.\n",
    "\n",
    "Ingresar el Selector CSS:\n",
    "\n",
    "Escribe o pega el selector CSS en el campo de búsqueda.\n",
    "\n",
    "Verificar la Selección:\n",
    "\n",
    "Los elementos que coinciden con el selector se resaltarán en la página y el HTML correspondiente se mostrará en el panel \"Elements\".\n",
    "Si el selector es correcto, deberías ver el elemento resaltado."
   ]
  },
  {
   "cell_type": "markdown",
   "metadata": {},
   "source": [
    "#### 8.  Uso de VPN con IP Rotativo\n",
    "\n",
    "Para evitar ser bloqueado, es fundamental usar una VPN con IP rotativa. Esto ayuda a distribuir las solicitudes entre varias direcciones IP y simular tráfico legítimo desde diferentes ubicaciones geográficas."
   ]
  },
  {
   "cell_type": "markdown",
   "metadata": {},
   "source": [
    "#### 9. Respetar Datos Sensibles y Hacer un Uso Respetuoso\n",
    "El web scraping debe realizarse de manera ética y legal. A continuación se presentan algunas prácticas recomendadas:\n",
    "\n",
    "Prácticas Éticas:\n",
    "\n",
    "Revisar los Términos de Servicio: Asegúrate de que el scraping no infrinja los términos de servicio del sitio web.\n",
    "\n",
    "Respetar la Privacidad: No extraigas ni almacenes datos personales sensibles sin consentimiento.\n",
    "\n",
    "No Sobrecargar el Servidor: Implementa tiempos de espera entre solicitudes para evitar sobrecargar el servidor."
   ]
  },
  {
   "cell_type": "markdown",
   "metadata": {},
   "source": [
    "#### 10. Los ejemplos de scripts.\n"
   ]
  }
 ],
 "metadata": {
  "language_info": {
   "name": "python"
  }
 },
 "nbformat": 4,
 "nbformat_minor": 2
}
